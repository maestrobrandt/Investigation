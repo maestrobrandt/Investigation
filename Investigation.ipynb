{
 "cells": [
  {
   "cell_type": "markdown",
   "metadata": {},
   "source": [
    "# Mathematically speaking, waves can be described by a wave equation like:\n",
    "\n",
    "## g(f) = A sin(2πft)\n",
    "\n",
    "### Where:\n",
    "### A = Amplitude or the Peak Value\n",
    "### f = frequency\n",
    "### t = time\n",
    "\n",
    "We can easily create a function in Python to generate a NumPy array of a wave with respect to time, as shown in the following code:"
   ]
  },
  {
   "cell_type": "code",
   "execution_count": 1,
   "metadata": {},
   "outputs": [
    {
     "name": "stdout",
     "output_type": "stream",
     "text": [
      "44100\n",
      "4095.9996855891045\n",
      "-4095.999685589104\n"
     ]
    }
   ],
   "source": [
    "import numpy as np\n",
    "\n",
    "samplerate = 44100 #Frequecy in Hz, this is standard\n",
    "\n",
    "def get_wave(freq, duration=0.5):\n",
    "    '''\n",
    "    Function takes the \"frequecy\" and \"time_duration\" for a wave \n",
    "    as the input and returns a \"numpy array\" of values at all points \n",
    "    in time\n",
    "    '''\n",
    "    \n",
    "    amplitude = 4096\n",
    "    t = np.linspace(0, duration, int(samplerate * duration))\n",
    "    wave = amplitude * np.sin(2 * np.pi * freq * t)\n",
    "    \n",
    "    return wave\n",
    "\n",
    "# To get a 1 second long wave of frequency 440Hz\n",
    "a_wave = get_wave(440, 1)\n",
    "\n",
    "#wave features\n",
    "print(len(a_wave)) # 44100\n",
    "print(np.max(a_wave)) # 4096\n",
    "print(np.min(a_wave)) # -4096"
   ]
  },
  {
   "cell_type": "markdown",
   "metadata": {},
   "source": [
    "You can also plot this array using matplotlib to get a clear picture of what’s going on"
   ]
  },
  {
   "cell_type": "code",
   "execution_count": 2,
   "metadata": {},
   "outputs": [
    {
     "data": {
      "image/png": "[encoded data removed]",
      "text/plain": [
       "<Figure size 432x288 with 1 Axes>"
      ]
     },
     "metadata": {
      "needs_background": "light"
     },
     "output_type": "display_data"
    }
   ],
   "source": [
    "import matplotlib.pyplot as plt\n",
    "plt.plot(a_wave[0:int(44100/440)])\n",
    "plt.xlabel('time')\n",
    "plt.ylabel('Amplitude')\n",
    "plt.show()"
   ]
  },
  {
   "cell_type": "markdown",
   "metadata": {},
   "source": [
    "A piano consists of multiple octaves. Although every octave is physically identical, it may sound a bit high-pitched or low-pitched with respect to the other  \n",
    "If we want to create a single octave (set of 12 keys), then we must know how each key is calibrated in relation to the other. After that, we can just double (or half) the frequency of all the keys, to get the next octave  \n",
    "Pianos are tuned using an “equal temperament system”. That means the relationship between the frequency of the keys (notes) is like this:  \n",
    "## note_freq = base_freq * 2^(n/12)\n",
    "### Where n is the number of notes away from the base note\n",
    "For example, if we consider C as our base note, then C# will have the frequency = base_freq * 2^(1/12)  \n",
    "We can easily build this logic with a single for loop in python"
   ]
  },
  {
   "cell_type": "code",
   "execution_count": 3,
   "metadata": {},
   "outputs": [],
   "source": [
    "def get_piano_notes():\n",
    "    '''\n",
    "    Returns a dict object for all the piano \n",
    "    note's frequencies\n",
    "    '''\n",
    "    # White keys are in Uppercase and black keys (sharps) are in lowercase\n",
    "    octave = ['C', 'c', 'D', 'd', 'E', 'F', 'f', 'G', 'g', 'A', 'a', 'B'] \n",
    "    base_freq = 261.63 #Frequency of Note C4\n",
    "    \n",
    "    note_freqs = {octave[i]: base_freq * pow(2,(i/12)) for i in range(len(octave))}        \n",
    "    note_freqs[''] = 0.0 # silent note\n",
    "    \n",
    "    return note_freqs"
   ]
  },
  {
   "cell_type": "markdown",
   "metadata": {},
   "source": [
    "### Now to play a song\n",
    "Let's play 'twinkle twinkle little star  \n",
    "First we need to write down our notes"
   ]
  },
  {
   "cell_type": "code",
   "execution_count": 4,
   "metadata": {},
   "outputs": [],
   "source": [
    "music_notes = 'C-C-G-G-A-A-G--F-F-E-E-D-D-C--G-G-F-F-E-E-D--G-G-F-F-E-E-D--C-C-G-G-A-A-G--F-F-E-E-D-D-C'"
   ]
  },
  {
   "cell_type": "markdown",
   "metadata": {},
   "source": [
    "Now we need a function to concatenate all of the notes"
   ]
  },
  {
   "cell_type": "code",
   "execution_count": 5,
   "metadata": {},
   "outputs": [],
   "source": [
    "def get_song_data(music_notes):\n",
    "    '''\n",
    "    Function to concatenate all the waves (notes)\n",
    "    '''\n",
    "    note_freqs = get_piano_notes() # Function that we made earlier\n",
    "    song = [get_wave(note_freqs[note]) for note in music_notes.split('-')]\n",
    "    song = np.concatenate(song)\n",
    "    return song\n",
    "\n",
    "music_notes = 'C-C-G-G-A-A-G--F-F-E-E-D-D-C--G-G-F-F-E-E-D--G-G-F-F-E-E-D--C-C-G-G-A-A-G--F-F-E-E-D-D-C'\n",
    "data = get_song_data(music_notes)\n",
    "\n",
    "data = data * (32600/np.max(data)) # Adjusting the Amplitude (Optional)"
   ]
  },
  {
   "cell_type": "markdown",
   "metadata": {},
   "source": [
    "Write the song into a file using Scipy and play"
   ]
  },
  {
   "cell_type": "code",
   "execution_count": 6,
   "metadata": {},
   "outputs": [],
   "source": [
    "from scipy.io.wavfile import write\n",
    "write('twinkle-twinkle.wav', samplerate, data.astype(np.int16))"
   ]
  },
  {
   "cell_type": "code",
   "execution_count": null,
   "metadata": {},
   "outputs": [],
   "source": []
  }
 ],
 "metadata": {
  "kernelspec": {
   "display_name": "Python 3",
   "language": "python",
   "name": "python3"
  },
  "language_info": {
   "codemirror_mode": {
    "name": "ipython",
    "version": 3
   },
   "file_extension": ".py",
   "mimetype": "text/x-python",
   "name": "python",
   "nbconvert_exporter": "python",
   "pygments_lexer": "ipython3",
   "version": "3.8.3"
  }
 },
 "nbformat": 4,
 "nbformat_minor": 4
}
